{
 "cells": [
  {
   "cell_type": "code",
   "execution_count": 6,
   "metadata": {},
   "outputs": [
    {
     "name": "stdout",
     "output_type": "stream",
     "text": [
      "(39.049430372180474, 898.5116699329168, 'Bream')\n",
      "(12.776058660753327, 13.07893388816564, 'Smelt')\n",
      "(12.761093140483993, 18.665042226428795, 'Smelt')\n",
      "(30.781177835532624, 566.7900536128654, 'Bream')\n",
      "(13.14571407653078, 9.207782300945958, 'Smelt')\n",
      "(27.8110402105653, 399.26749731863765, 'Bream')\n",
      "(12.365432693283783, 15.052019703747522, 'Smelt')\n",
      "(36.96018116062672, 850.6324953147663, 'Bream')\n",
      "(14.180342945740009, 18.95100672875428, 'Smelt')\n",
      "(30.83379301441738, 398.10540010041797, 'Bream')\n"
     ]
    }
   ],
   "source": [
    "import numpy as np\n",
    "\n",
    "# 도미 데이터\n",
    "bream_length = [25.4, 26.3, 26.5, 29.0, 29.0, 29.7, 29.7, 30.0, 30.0, 30.7, 31.0, 31.0,\n",
    "                31.5, 32.0, 32.0, 32.0, 33.0, 33.0, 33.5, 33.5, 34.0, 34.0, 34.5, 35.0,\n",
    "                35.0, 35.0, 35.0, 36.0, 36.0, 37.0, 38.5, 38.5, 39.5, 41.0, 41.0]\n",
    "bream_weight = [242.0, 290.0, 340.0, 363.0, 430.0, 450.0, 500.0, 390.0, 450.0, 500.0, 475.0, 500.0,\n",
    "                500.0, 340.0, 600.0, 600.0, 700.0, 700.0, 610.0, 650.0, 575.0, 685.0, 620.0, 680.0,\n",
    "                700.0, 725.0, 720.0, 714.0, 850.0, 1000.0, 920.0, 955.0, 925.0, 975.0, 950.0]\n",
    "\n",
    "# 빙어 데이터\n",
    "smelt_length = [9.8, 10.5, 10.6, 11.0, 11.2, 11.3, 11.8, 11.8, 12.0, 12.2, 12.4, 13.0, 14.3, 15.0]\n",
    "smelt_weight = [6.7, 7.5, 7.0, 9.7, 9.8, 8.7, 10.0, 9.9, 9.8, 12.2, 13.4, 12.2, 19.7, 19.9]\n",
    "\n",
    "# 도미와 빙어의 길이와 무게 범위\n",
    "bream_length_min, bream_length_max = min(bream_length), max(bream_length)\n",
    "bream_weight_min, bream_weight_max = min(bream_weight), max(bream_weight)\n",
    "smelt_length_min, smelt_length_max = min(smelt_length), max(smelt_length)\n",
    "smelt_weight_min, smelt_weight_max = min(smelt_weight), max(smelt_weight)\n",
    "\n",
    "# 테스트 데이터 생성\n",
    "num_samples = 10000000\n",
    "test_data = []\n",
    "\n",
    "for _ in range(num_samples):\n",
    "    if np.random.rand() > 0.5:\n",
    "        # 도미 데이터 생성\n",
    "        length = np.random.uniform(bream_length_min, bream_length_max)\n",
    "        weight = np.random.uniform(bream_weight_min, bream_weight_max)\n",
    "        label = 'Bream'\n",
    "    else:\n",
    "        # 빙어 데이터 생성\n",
    "        length = np.random.uniform(smelt_length_min, smelt_length_max)\n",
    "        weight = np.random.uniform(smelt_weight_min, smelt_weight_max)\n",
    "        label = 'Smelt'\n",
    "    \n",
    "    test_data.append((length, weight, label))\n",
    "\n",
    "# 생성된 데이터 출력 (처음 10개만 출력)\n",
    "for i in range(10):\n",
    "    print(test_data[i])"
   ]
  },
  {
   "cell_type": "code",
   "execution_count": 7,
   "metadata": {},
   "outputs": [],
   "source": [
    "import csv\n",
    "\n",
    "csv_file_path = 'fish_test_data.csv'\n",
    "\n",
    "with open(csv_file_path, mode='w', newline='') as file:\n",
    "    writer = csv.writer(file)\n",
    "    writer.writerow(['Length', 'Weight', 'Label'])  # 헤더 작성\n",
    "    writer.writerows(test_data)  # 데이터 작성"
   ]
  },
  {
   "cell_type": "code",
   "execution_count": null,
   "metadata": {},
   "outputs": [],
   "source": []
  }
 ],
 "metadata": {
  "kernelspec": {
   "display_name": ".venv",
   "language": "python",
   "name": "python3"
  },
  "language_info": {
   "codemirror_mode": {
    "name": "ipython",
    "version": 3
   },
   "file_extension": ".py",
   "mimetype": "text/x-python",
   "name": "python",
   "nbconvert_exporter": "python",
   "pygments_lexer": "ipython3",
   "version": "3.11.9"
  }
 },
 "nbformat": 4,
 "nbformat_minor": 2
}
